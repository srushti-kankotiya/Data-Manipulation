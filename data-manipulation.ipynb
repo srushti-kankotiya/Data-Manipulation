{
 "cells": [
  {
   "cell_type": "code",
   "execution_count": null,
   "id": "c0bca29e-2fa2-472c-8e8d-26e9a4416b8f",
   "metadata": {},
   "outputs": [],
   "source": [
    "import pandas as pd"
   ]
  },
  {
   "cell_type": "code",
   "execution_count": null,
   "id": "a05d7881-4b1d-4df0-9efa-14fdc8ae9dd0",
   "metadata": {},
   "outputs": [],
   "source": [
    "dict_df = pd.read_excel('fAST patents v1 vs. v3 comparison (1).xlsx', \n",
    "                   sheet_name=['fAST V1','fAST V3'])"
   ]
  },
  {
   "cell_type": "code",
   "execution_count": null,
   "id": "11814772-fe6f-4278-a221-6d66b62a3930",
   "metadata": {},
   "outputs": [],
   "source": [
    "v1_df = dict_df.get('fAST V1')"
   ]
  },
  {
   "cell_type": "code",
   "execution_count": null,
   "id": "1cd2bc4e-f06d-44b6-a79c-a7049b01f781",
   "metadata": {},
   "outputs": [],
   "source": [
    "v3_df = dict_df.get('fAST V3')"
   ]
  },
  {
   "cell_type": "code",
   "execution_count": null,
   "id": "15094301-194c-46df-8e43-21e665e01e59",
   "metadata": {},
   "outputs": [],
   "source": [
    "v1_df"
   ]
  },
  {
   "cell_type": "code",
   "execution_count": null,
   "id": "71f66ceb-e8a1-4d93-b5d7-cb6fb334bcd1",
   "metadata": {},
   "outputs": [],
   "source": [
    "v3_df"
   ]
  },
  {
   "cell_type": "code",
   "execution_count": null,
   "id": "8233743d-7a1a-4fb5-adb8-1624f8af7ef2",
   "metadata": {},
   "outputs": [],
   "source": [
    "v1_df = v1_df.drop('asset_no', axis=1)"
   ]
  },
  {
   "cell_type": "code",
   "execution_count": null,
   "id": "57642a0f-328c-4d09-8359-723a43554872",
   "metadata": {},
   "outputs": [],
   "source": [
    "v3_df = v3_df.drop('asset_number', axis=1)"
   ]
  },
  {
   "cell_type": "code",
   "execution_count": null,
   "id": "0d3d8b6b-233a-4de1-8f72-1ae2092fea04",
   "metadata": {},
   "outputs": [],
   "source": [
    "v1_df = v1_df[~v1_df.family_members.isnull() & ~v1_df.inpadoc_family_id.isnull()]"
   ]
  },
  {
   "cell_type": "code",
   "execution_count": null,
   "id": "917135b1-acd3-41dd-ab74-1e8bdd1e90f1",
   "metadata": {},
   "outputs": [],
   "source": [
    "res = v1_df.set_index(['inpadoc_family_id']).apply(lambda x: x.str.split('|').explode()).reset_index()"
   ]
  },
  {
   "cell_type": "code",
   "execution_count": null,
   "id": "aaae8a5c-7749-429b-b7c3-57523e427dd2",
   "metadata": {},
   "outputs": [],
   "source": [
    "res['family_members'] = res.family_members.str.strip()"
   ]
  },
  {
   "cell_type": "code",
   "execution_count": null,
   "id": "98b64eba-dad1-4744-87d7-18ddf9da8dbd",
   "metadata": {},
   "outputs": [],
   "source": [
    "res_v1 = res.drop_duplicates()"
   ]
  },
  {
   "cell_type": "code",
   "execution_count": null,
   "id": "1e732554-fc5e-4335-a477-57a8bdd1ec8e",
   "metadata": {},
   "outputs": [],
   "source": [
    "res_v1"
   ]
  },
  {
   "cell_type": "code",
   "execution_count": null,
   "id": "ae3341a9-8a5a-4ccd-a763-ea5640031467",
   "metadata": {},
   "outputs": [],
   "source": [
    "v3_df = v3_df[~v3_df.family_members.isnull() & ~v3_df.global_patent_family.isnull()]"
   ]
  },
  {
   "cell_type": "code",
   "execution_count": null,
   "id": "e33fcccf-44f0-443b-a934-ebef33f8c196",
   "metadata": {},
   "outputs": [],
   "source": [
    "v3_df['family_members'] = v3_df['family_members'].str.replace('\",\"',',')"
   ]
  },
  {
   "cell_type": "code",
   "execution_count": null,
   "id": "0504e31b-27ef-4a70-9df6-ecbe3b2b157d",
   "metadata": {},
   "outputs": [],
   "source": [
    "v3_df['family_members'] = v3_df['family_members'].str.replace('\\\"\\]','')"
   ]
  },
  {
   "cell_type": "code",
   "execution_count": null,
   "id": "9bdd8871-c245-465e-856a-027d99215e14",
   "metadata": {},
   "outputs": [],
   "source": [
    "v3_df['family_members'] = v3_df['family_members'].str.replace('\\[\\\"','')"
   ]
  },
  {
   "cell_type": "code",
   "execution_count": null,
   "id": "e5dfe408-9466-49c7-ade7-2fe4c1d70183",
   "metadata": {},
   "outputs": [],
   "source": [
    "res = v3_df.set_index(['global_patent_family']).apply(lambda x: x.str.split(',').explode()).reset_index()"
   ]
  },
  {
   "cell_type": "code",
   "execution_count": null,
   "id": "161267ed-205f-4900-9f4e-727a02747588",
   "metadata": {},
   "outputs": [],
   "source": [
    "res['family_members'] = res.family_members.str.strip()"
   ]
  },
  {
   "cell_type": "code",
   "execution_count": null,
   "id": "453423b4-2d14-49bf-b58b-a2fb8bfbda0a",
   "metadata": {},
   "outputs": [],
   "source": [
    "res_v3 = res.drop_duplicates()"
   ]
  },
  {
   "cell_type": "code",
   "execution_count": null,
   "id": "5e478066-9489-40a5-9806-62521a446d84",
   "metadata": {},
   "outputs": [],
   "source": [
    "res_v3"
   ]
  },
  {
   "cell_type": "code",
   "execution_count": null,
   "id": "8af659f6-1e2f-4846-959a-fbf11f26d39f",
   "metadata": {},
   "outputs": [],
   "source": [
    "# res_v1.to_excel(\"data-manipulation-final.xlsx\",sheet_name='fAST V1')"
   ]
  },
  {
   "cell_type": "code",
   "execution_count": null,
   "id": "25492779-8aec-491a-83ff-fc77bec4f7db",
   "metadata": {},
   "outputs": [],
   "source": [
    "with pd.ExcelWriter('data-manipulation-final.xlsx') as writer:  \n",
    "    res_v1.to_excel(writer, sheet_name='fAST V1')\n",
    "    res_v3.to_excel(writer, sheet_name='fAST V3')"
   ]
  },
  {
   "cell_type": "code",
   "execution_count": null,
   "id": "2fe79563-e4f6-4dae-a382-1a398d6c5b39",
   "metadata": {},
   "outputs": [],
   "source": []
  }
 ],
 "metadata": {
  "kernelspec": {
   "display_name": "Python 3 (ipykernel)",
   "language": "python",
   "name": "python3"
  },
  "language_info": {
   "codemirror_mode": {
    "name": "ipython",
    "version": 3
   },
   "file_extension": ".py",
   "mimetype": "text/x-python",
   "name": "python",
   "nbconvert_exporter": "python",
   "pygments_lexer": "ipython3",
   "version": "3.7.9"
  }
 },
 "nbformat": 4,
 "nbformat_minor": 5
}
